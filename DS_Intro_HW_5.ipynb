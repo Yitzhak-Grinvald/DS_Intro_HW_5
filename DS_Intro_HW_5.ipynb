{
 "cells": [
  {
   "cell_type": "code",
   "execution_count": 1,
   "id": "7fff102d",
   "metadata": {},
   "outputs": [],
   "source": [
    "import os\n",
    "import urllib\n",
    "import requests\n",
    "import json\n",
    "import requests\n",
    "from bs4 import BeautifulSoup\n",
    "import pandas as pd"
   ]
  },
  {
   "cell_type": "code",
   "execution_count": 2,
   "id": "2bed3f4c",
   "metadata": {},
   "outputs": [
    {
     "data": {
      "text/html": [
       "<div>\n",
       "<style scoped>\n",
       "    .dataframe tbody tr th:only-of-type {\n",
       "        vertical-align: middle;\n",
       "    }\n",
       "\n",
       "    .dataframe tbody tr th {\n",
       "        vertical-align: top;\n",
       "    }\n",
       "\n",
       "    .dataframe thead th {\n",
       "        text-align: right;\n",
       "    }\n",
       "</style>\n",
       "<table border=\"1\" class=\"dataframe\">\n",
       "  <thead>\n",
       "    <tr style=\"text-align: right;\">\n",
       "      <th></th>\n",
       "      <th>city</th>\n",
       "      <th>city_LP</th>\n",
       "    </tr>\n",
       "  </thead>\n",
       "  <tbody>\n",
       "    <tr>\n",
       "      <th>0</th>\n",
       "      <td>Antalya</td>\n",
       "      <td>mediterranean-coast/antalya</td>\n",
       "    </tr>\n",
       "    <tr>\n",
       "      <th>1</th>\n",
       "      <td>Athens</td>\n",
       "      <td>Athens</td>\n",
       "    </tr>\n",
       "    <tr>\n",
       "      <th>2</th>\n",
       "      <td>Ayia-napa</td>\n",
       "      <td>the-republic-of-cyprus/Agia-napa</td>\n",
       "    </tr>\n",
       "    <tr>\n",
       "      <th>3</th>\n",
       "      <td>Bangkok</td>\n",
       "      <td>Bangkok</td>\n",
       "    </tr>\n",
       "    <tr>\n",
       "      <th>4</th>\n",
       "      <td>Barcelona</td>\n",
       "      <td>Barcelona</td>\n",
       "    </tr>\n",
       "    <tr>\n",
       "      <th>...</th>\n",
       "      <td>...</td>\n",
       "      <td>...</td>\n",
       "    </tr>\n",
       "    <tr>\n",
       "      <th>71</th>\n",
       "      <td>Venice</td>\n",
       "      <td>Venice</td>\n",
       "    </tr>\n",
       "    <tr>\n",
       "      <th>72</th>\n",
       "      <td>Vienna</td>\n",
       "      <td>Vienna</td>\n",
       "    </tr>\n",
       "    <tr>\n",
       "      <th>73</th>\n",
       "      <td>Warsaw</td>\n",
       "      <td>Warsaw</td>\n",
       "    </tr>\n",
       "    <tr>\n",
       "      <th>74</th>\n",
       "      <td>Zakynthos</td>\n",
       "      <td>Zakynthos</td>\n",
       "    </tr>\n",
       "    <tr>\n",
       "      <th>75</th>\n",
       "      <td>Zurich</td>\n",
       "      <td>Zurich</td>\n",
       "    </tr>\n",
       "  </tbody>\n",
       "</table>\n",
       "<p>76 rows × 2 columns</p>\n",
       "</div>"
      ],
      "text/plain": [
       "         city                           city_LP\n",
       "0     Antalya       mediterranean-coast/antalya\n",
       "1      Athens                            Athens\n",
       "2   Ayia-napa  the-republic-of-cyprus/Agia-napa\n",
       "3     Bangkok                           Bangkok\n",
       "4   Barcelona                         Barcelona\n",
       "..        ...                               ...\n",
       "71     Venice                            Venice\n",
       "72     Vienna                            Vienna\n",
       "73     Warsaw                            Warsaw\n",
       "74  Zakynthos                         Zakynthos\n",
       "75     Zurich                            Zurich\n",
       "\n",
       "[76 rows x 2 columns]"
      ]
     },
     "execution_count": 2,
     "metadata": {},
     "output_type": "execute_result"
    }
   ],
   "source": [
    "path= \"C:\\\\Users\\\\yitzh\\\\Downloads\\\\\"\n",
    "data= pd.read_csv(path+\"destinations_LP_crawler_Ex5.csv\",encoding='ISO-8859-1')\n",
    "data"
   ]
  },
  {
   "cell_type": "code",
   "execution_count": null,
   "id": "231e51e3",
   "metadata": {},
   "outputs": [],
   "source": [
    "new_list=[]\n",
    "for city in data[\"city\"]: \n",
    "    address= city\n",
    "    api_key='AIzaS*****'\n",
    "    url=\"https://maps.googleapis.com/maps/api/geocode/json?address=%s&key=%s\" % (address,api_key)\n",
    "    try:\n",
    "        response = requests.get(url)\n",
    "        if not response.status_code == 200:\n",
    "            print(\"HTTP error-response.status_code\")\n",
    "        else:    \n",
    "            try:\n",
    "                response_data=response.json()\n",
    "                country=response_data['results'][0]['formatted_address'].split(',')[-1].strip()\n",
    "                try:\n",
    "#sometimes number appear at the end of formatted_address, if so, take earler word\n",
    "                    int(country)\n",
    "                    country=response_data['results'][0]['formatted_address'].split(',')[-2].strip()\n",
    "                except:\n",
    "                    country=country\n",
    "\n",
    "                new_list.append(country)\n",
    "            except: \n",
    "                print(\"Response not in valid JSON format\")\n",
    "    except:\n",
    "        print(\"Something went wrong with requests.get\")\n",
    "\n",
    "\n",
    "new_list\n"
   ]
  },
  {
   "cell_type": "code",
   "execution_count": null,
   "id": "7dcbfa26",
   "metadata": {},
   "outputs": [],
   "source": [
    "data['country']=new_list\n",
    "data"
   ]
  },
  {
   "cell_type": "code",
   "execution_count": null,
   "id": "6b505976",
   "metadata": {},
   "outputs": [],
   "source": [
    "\n",
    "desc= list()\n",
    "http= 'https://www.lonelyplanet.com/'\n",
    "for i in range(len(data['city'])):\n",
    "    url=http+data['country'][i]+'/'+data['city_LP'][i]\n",
    "    response = requests.get(url)\n",
    "    \n",
    "    if response.status_code == 200:\n",
    "        results_page = BeautifulSoup(response.content, 'html.parser')\n",
    "        description= results_page.find('div',class_=\"readMore_content___5EuR relative overflow-hidden max-h-96 is-max wysiwyg\")\n",
    "        desc.append(description.get_text())\n",
    "    else:\n",
    "        print(\"Error\",url)\n",
    "        desc.append('Error')"
   ]
  },
  {
   "cell_type": "code",
   "execution_count": null,
   "id": "bf1e0bff",
   "metadata": {},
   "outputs": [],
   "source": [
    "data['Description']=desc"
   ]
  },
  {
   "cell_type": "code",
   "execution_count": null,
   "id": "71db31eb",
   "metadata": {},
   "outputs": [],
   "source": [
    "del data['city_LP']\n",
    "data.to_csv('LP_destinations.csv')"
   ]
  }
 ],
 "metadata": {
  "kernelspec": {
   "display_name": "Python 3 (ipykernel)",
   "language": "python",
   "name": "python3"
  },
  "language_info": {
   "codemirror_mode": {
    "name": "ipython",
    "version": 3
   },
   "file_extension": ".py",
   "mimetype": "text/x-python",
   "name": "python",
   "nbconvert_exporter": "python",
   "pygments_lexer": "ipython3",
   "version": "3.9.7"
  }
 },
 "nbformat": 4,
 "nbformat_minor": 5
}
